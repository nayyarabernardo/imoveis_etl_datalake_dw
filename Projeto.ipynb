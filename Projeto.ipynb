{
  "cells": [
    {
      "cell_type": "markdown",
      "metadata": {
        "id": "VvKng5_devgH"
      },
      "source": [
        "# PANDAS AVANÇADO\n",
        "---"
      ]
    },
    {
      "cell_type": "markdown",
      "metadata": {
        "id": "99IUfbszevgO"
      },
      "source": [
        "# CARREGANDO OS DADOS\n",
        "---"
      ]
    },
    {
      "cell_type": "markdown",
      "metadata": {
        "id": "VYIHv0csevgP"
      },
      "source": [
        "## Configurações do projeto"
      ]
    },
    {
      "cell_type": "markdown",
      "metadata": {
        "id": "P_gXKCYpevgP"
      },
      "source": [
        "### Importando pacotes"
      ]
    },
    {
      "cell_type": "code",
      "source": [
        "!pip install gcsfs \n",
        "!pip install pyspark"
      ],
      "metadata": {
        "id": "j2nQV8X0A-bT"
      },
      "execution_count": null,
      "outputs": []
    },
    {
      "cell_type": "code",
      "execution_count": null,
      "metadata": {
        "ExecuteTime": {
          "end_time": "2020-10-25T16:41:53.996410Z",
          "start_time": "2020-10-25T16:41:53.989428Z"
        },
        "id": "s-xCbXDzevgQ"
      },
      "outputs": [],
      "source": [
        "#import Bibliotecas\n",
        "import pandas as pd\n",
        "import numpy as np\n",
        "import os"
      ]
    },
    {
      "cell_type": "code",
      "source": [
        "from pyspark.sql import SparkSession\n",
        "from pymongo import MongoClient\n",
        "from google.cloud import storage"
      ],
      "metadata": {
        "id": "kIBM6I0SA5z6"
      },
      "execution_count": null,
      "outputs": []
    },
    {
      "cell_type": "markdown",
      "source": [
        "###Conexões das bibliotecas"
      ],
      "metadata": {
        "id": "RWJr1prL_YK3"
      }
    },
    {
      "cell_type": "code",
      "source": [
        "#Conexão com o drive \n",
        "from google.colab import drive\n",
        "drive.mount('/content/drive')"
      ],
      "metadata": {
        "colab": {
          "base_uri": "https://localhost:8080/"
        },
        "id": "FxV6MxPt_ag8",
        "outputId": "c305f437-b690-4518-d313-b9e8bb0ec161"
      },
      "execution_count": null,
      "outputs": [
        {
          "output_type": "stream",
          "name": "stdout",
          "text": [
            "Mounted at /content/drive\n"
          ]
        }
      ]
    },
    {
      "cell_type": "code",
      "source": [
        "#Conecção com a GCP\n",
        "serviceAccount = '/content/drive/MyDrive/BC26-ENG DADOS-PYTHON/PROJETOS/PROJETO ESTUDO/Cópia de key-store-via-colab.json'\n",
        "os.environ['GOOGLE_APPLICATION_CREDENTIALS'] = serviceAccount"
      ],
      "metadata": {
        "id": "jqFDR_BM_x9q"
      },
      "execution_count": null,
      "outputs": []
    },
    {
      "cell_type": "code",
      "source": [
        "#conector do Mongo Atlas\n",
        "uri = \"mongodb+srv://nayyarabernardo-soulcod.mv7bzjn.mongodb.net/?authSource=%24external&authMechanism=MONGODB-X509&retryWrites=true&w=majority\"\n",
        "client = MongoClient(uri, \n",
        "                     tls=True, \n",
        "                     tlsCertificateKeyFile='/content/drive/MyDrive/BC26-ENG DADOS-PYTHON/PROJETOS/PROJETO ESTUDO/Cópia de X509-cert-3376380089754927980.pem')\n"
      ],
      "metadata": {
        "id": "_K6QX0hG_1Vm"
      },
      "execution_count": null,
      "outputs": []
    },
    {
      "cell_type": "code",
      "source": [
        "#CONFIGURAR A SPARK SESSION\n",
        "spark = (\n",
        "   SparkSession.builder\n",
        "               .master('local')\n",
        "               .appName('gcsfs') \n",
        "               .config('spark.ui.port', '4050')\n",
        "               .config(\"spark.jars\", 'https://storage.googleapis.com/hadoop-lib/gcs/gcs-connector-hadoop2-latest.jar') #config acesso conector gcp\n",
        "               .getOrCreate()                \n",
        ")"
      ],
      "metadata": {
        "id": "mDq-TCYu_6Vc"
      },
      "execution_count": null,
      "outputs": []
    },
    {
      "cell_type": "markdown",
      "metadata": {
        "id": "4S6wyakFevgQ"
      },
      "source": [
        "### Opções de configuração"
      ]
    },
    {
      "cell_type": "code",
      "source": [
        "#Para mostrar todas as colunas no display\n",
        "pd.set_option('display.max_columns',25)"
      ],
      "metadata": {
        "id": "wcp9NJSu-4Iw"
      },
      "execution_count": null,
      "outputs": []
    },
    {
      "cell_type": "code",
      "execution_count": null,
      "metadata": {
        "id": "6UVcvI0-evgR",
        "colab": {
          "base_uri": "https://localhost:8080/"
        },
        "outputId": "4ae58890-ebb1-4dab-ff66-d2e284de30e7"
      },
      "outputs": [
        {
          "output_type": "execute_result",
          "data": {
            "text/plain": [
              "60"
            ]
          },
          "metadata": {},
          "execution_count": 9
        }
      ],
      "source": [
        "pd.get_option('display.max_rows', 1000)"
      ]
    },
    {
      "cell_type": "markdown",
      "metadata": {
        "id": "43QYxdBWevgT"
      },
      "source": [
        "## Carregando os dados"
      ]
    },
    {
      "cell_type": "markdown",
      "metadata": {
        "id": "votr38ZYevgT"
      },
      "source": [
        "### Arquivos JSON - `read_json`"
      ]
    },
    {
      "cell_type": "code",
      "source": [
        "dados = pd.read_json(\n",
        "    path_or_buf='gs://projeto_cat/ORIGINAL/realestates.json',\n",
        "    orient='columns'\n",
        ")"
      ],
      "metadata": {
        "id": "XorP4MwZChjI"
      },
      "execution_count": null,
      "outputs": []
    },
    {
      "cell_type": "code",
      "source": [
        "dados"
      ],
      "metadata": {
        "colab": {
          "base_uri": "https://localhost:8080/",
          "height": 81
        },
        "id": "LM07OpSAHScj",
        "outputId": "c929e93f-3f9c-4243-b524-da32dfbe17b7"
      },
      "execution_count": null,
      "outputs": [
        {
          "output_type": "execute_result",
          "data": {
            "text/plain": [
              "                                                   normal  \\\n",
              "output  {'listings': [{'imovel': {'tipos': {'proprieda...   \n",
              "\n",
              "                                               highlights  \n",
              "output  {'listings': [{'imovel': {'tipos': {'proprieda...  "
            ],
            "text/html": [
              "\n",
              "  <div id=\"df-59a9ffe8-4128-4054-b320-0f18bb63dc10\">\n",
              "    <div class=\"colab-df-container\">\n",
              "      <div>\n",
              "<style scoped>\n",
              "    .dataframe tbody tr th:only-of-type {\n",
              "        vertical-align: middle;\n",
              "    }\n",
              "\n",
              "    .dataframe tbody tr th {\n",
              "        vertical-align: top;\n",
              "    }\n",
              "\n",
              "    .dataframe thead th {\n",
              "        text-align: right;\n",
              "    }\n",
              "</style>\n",
              "<table border=\"1\" class=\"dataframe\">\n",
              "  <thead>\n",
              "    <tr style=\"text-align: right;\">\n",
              "      <th></th>\n",
              "      <th>normal</th>\n",
              "      <th>highlights</th>\n",
              "    </tr>\n",
              "  </thead>\n",
              "  <tbody>\n",
              "    <tr>\n",
              "      <th>output</th>\n",
              "      <td>{'listings': [{'imovel': {'tipos': {'proprieda...</td>\n",
              "      <td>{'listings': [{'imovel': {'tipos': {'proprieda...</td>\n",
              "    </tr>\n",
              "  </tbody>\n",
              "</table>\n",
              "</div>\n",
              "      <button class=\"colab-df-convert\" onclick=\"convertToInteractive('df-59a9ffe8-4128-4054-b320-0f18bb63dc10')\"\n",
              "              title=\"Convert this dataframe to an interactive table.\"\n",
              "              style=\"display:none;\">\n",
              "        \n",
              "  <svg xmlns=\"http://www.w3.org/2000/svg\" height=\"24px\"viewBox=\"0 0 24 24\"\n",
              "       width=\"24px\">\n",
              "    <path d=\"M0 0h24v24H0V0z\" fill=\"none\"/>\n",
              "    <path d=\"M18.56 5.44l.94 2.06.94-2.06 2.06-.94-2.06-.94-.94-2.06-.94 2.06-2.06.94zm-11 1L8.5 8.5l.94-2.06 2.06-.94-2.06-.94L8.5 2.5l-.94 2.06-2.06.94zm10 10l.94 2.06.94-2.06 2.06-.94-2.06-.94-.94-2.06-.94 2.06-2.06.94z\"/><path d=\"M17.41 7.96l-1.37-1.37c-.4-.4-.92-.59-1.43-.59-.52 0-1.04.2-1.43.59L10.3 9.45l-7.72 7.72c-.78.78-.78 2.05 0 2.83L4 21.41c.39.39.9.59 1.41.59.51 0 1.02-.2 1.41-.59l7.78-7.78 2.81-2.81c.8-.78.8-2.07 0-2.86zM5.41 20L4 18.59l7.72-7.72 1.47 1.35L5.41 20z\"/>\n",
              "  </svg>\n",
              "      </button>\n",
              "      \n",
              "  <style>\n",
              "    .colab-df-container {\n",
              "      display:flex;\n",
              "      flex-wrap:wrap;\n",
              "      gap: 12px;\n",
              "    }\n",
              "\n",
              "    .colab-df-convert {\n",
              "      background-color: #E8F0FE;\n",
              "      border: none;\n",
              "      border-radius: 50%;\n",
              "      cursor: pointer;\n",
              "      display: none;\n",
              "      fill: #1967D2;\n",
              "      height: 32px;\n",
              "      padding: 0 0 0 0;\n",
              "      width: 32px;\n",
              "    }\n",
              "\n",
              "    .colab-df-convert:hover {\n",
              "      background-color: #E2EBFA;\n",
              "      box-shadow: 0px 1px 2px rgba(60, 64, 67, 0.3), 0px 1px 3px 1px rgba(60, 64, 67, 0.15);\n",
              "      fill: #174EA6;\n",
              "    }\n",
              "\n",
              "    [theme=dark] .colab-df-convert {\n",
              "      background-color: #3B4455;\n",
              "      fill: #D2E3FC;\n",
              "    }\n",
              "\n",
              "    [theme=dark] .colab-df-convert:hover {\n",
              "      background-color: #434B5C;\n",
              "      box-shadow: 0px 1px 3px 1px rgba(0, 0, 0, 0.15);\n",
              "      filter: drop-shadow(0px 1px 2px rgba(0, 0, 0, 0.3));\n",
              "      fill: #FFFFFF;\n",
              "    }\n",
              "  </style>\n",
              "\n",
              "      <script>\n",
              "        const buttonEl =\n",
              "          document.querySelector('#df-59a9ffe8-4128-4054-b320-0f18bb63dc10 button.colab-df-convert');\n",
              "        buttonEl.style.display =\n",
              "          google.colab.kernel.accessAllowed ? 'block' : 'none';\n",
              "\n",
              "        async function convertToInteractive(key) {\n",
              "          const element = document.querySelector('#df-59a9ffe8-4128-4054-b320-0f18bb63dc10');\n",
              "          const dataTable =\n",
              "            await google.colab.kernel.invokeFunction('convertToInteractive',\n",
              "                                                     [key], {});\n",
              "          if (!dataTable) return;\n",
              "\n",
              "          const docLinkHtml = 'Like what you see? Visit the ' +\n",
              "            '<a target=\"_blank\" href=https://colab.research.google.com/notebooks/data_table.ipynb>data table notebook</a>'\n",
              "            + ' to learn more about interactive tables.';\n",
              "          element.innerHTML = '';\n",
              "          dataTable['output_type'] = 'display_data';\n",
              "          await google.colab.output.renderOutput(dataTable, element);\n",
              "          const docLink = document.createElement('div');\n",
              "          docLink.innerHTML = docLinkHtml;\n",
              "          element.appendChild(docLink);\n",
              "        }\n",
              "      </script>\n",
              "    </div>\n",
              "  </div>\n",
              "  "
            ]
          },
          "metadata": {},
          "execution_count": 32
        }
      ]
    },
    {
      "cell_type": "markdown",
      "metadata": {
        "id": "Q0coCxxrevgU"
      },
      "source": [
        "### Arquivos EXCEL - `read_excel`"
      ]
    },
    {
      "cell_type": "code",
      "execution_count": null,
      "metadata": {
        "id": "xoSV41cTevgV",
        "scrolled": true
      },
      "outputs": [],
      "source": [
        "bairros = pd.read_excel(\n",
        "    io = 'gs://projeto_cat/ORIGINAL/bairros.xlsx',\n",
        "    sheet_name='Preço médio por tipo',\n",
        "    usecols=\"C:E\",\n",
        "    header = 2,\n",
        "    index_col=[0, 1],\n",
        "    names=['bairros','tipo','valor_m2_bairro']\n",
        ")\n",
        "bairros"
      ]
    },
    {
      "cell_type": "markdown",
      "source": [
        "## Carregando os dados BRUTOS para o mongo DB"
      ],
      "metadata": {
        "id": "fmnuuhTMGzZ2"
      }
    },
    {
      "cell_type": "code",
      "source": [
        "#Criar conexão\n",
        "db = client['IMOVEIS']"
      ],
      "metadata": {
        "id": "GXxsRHH_HChl"
      },
      "execution_count": null,
      "outputs": []
    },
    {
      "cell_type": "code",
      "source": [
        "# #Criar e enviar coleção ORIGINAL  \n",
        "colecao_1 = db['realestates-ORIGINAL']\n",
        "df1_dict = dados.to_dict('records')\n",
        "# Inserindo os dados no mongodb\n",
        "colecao_1.insert_many(df1_dict)"
      ],
      "metadata": {
        "id": "gtDuoZvaHEr3"
      },
      "execution_count": null,
      "outputs": []
    },
    {
      "cell_type": "code",
      "source": [
        "colecao_2_parte1 = db['bairros-ORIGINAL']\n",
        "df2_dict = bairros.to_dict('records')\n",
        "colecao_2_parte1.insert_many(df2_dict)"
      ],
      "metadata": {
        "id": "5LE69IPjHGjX"
      },
      "execution_count": null,
      "outputs": []
    },
    {
      "cell_type": "markdown",
      "metadata": {
        "id": "A05bkoTPevgV"
      },
      "source": [
        "# TRANSFORMANDO E TRATANDO OS DADOS\n",
        "---"
      ]
    },
    {
      "cell_type": "markdown",
      "metadata": {
        "id": "Wy7HvxaZevgV"
      },
      "source": [
        "## Transformando dados no formato JSON para uma tabela\n",
        "- Utilizando o json_normalize para informações em colunas \n",
        "- existem duas colunas inicialmente nesse dataframe Coluna Normal e Highlights"
      ]
    },
    {
      "cell_type": "code",
      "execution_count": null,
      "metadata": {
        "id": "Tq_44heHevgW"
      },
      "outputs": [],
      "source": [
        "#Transformar essas informações em linhas da minha tabela , ele vai utilizar as informações conditas para nomes das colunas \n",
        "dados_normal_listings = pd.json_normalize(data=dados.normal, sep='_', record_path=['listings'])"
      ]
    },
    {
      "cell_type": "code",
      "execution_count": null,
      "metadata": {
        "id": "NyQdnK6tevgW"
      },
      "outputs": [],
      "source": [
        "dados_highlights_listings = pd.json_normalize(data=dados.highlights, sep='_', record_path=['listings'])\n",
        "dados_highlights_listings"
      ]
    },
    {
      "cell_type": "markdown",
      "metadata": {
        "id": "cpaDGnecevgX"
      },
      "source": [
        "## Trabalhando com dados textuais\n",
        "- Foi ferificado que em algumas colunas que existem mais de uma informações aparentimente seriam lista mas ao verificar utlizando o type foi verificado que se tratavam de str e foi feito esse tratamento"
      ]
    },
    {
      "cell_type": "markdown",
      "metadata": {
        "id": "CMgPdhFNevgX"
      },
      "source": [
        "### Aanalise das colunas com *strings* em listas do Python"
      ]
    },
    {
      "cell_type": "code",
      "execution_count": null,
      "metadata": {
        "id": "vJmnnHZ_evgY",
        "scrolled": true
      },
      "outputs": [],
      "source": [
        "dados_normal_listings"
      ]
    },
    {
      "cell_type": "code",
      "execution_count": null,
      "metadata": {
        "id": "karvMBcBifJf"
      },
      "outputs": [],
      "source": [
        "lista_str = dados_normal_listings.loc[0, 'imovel_caracteristicas_propriedade']"
      ]
    },
    {
      "cell_type": "code",
      "execution_count": null,
      "metadata": {
        "id": "Cw5aR9T4ifJg",
        "colab": {
          "base_uri": "https://localhost:8080/"
        },
        "outputId": "9d883626-b973-4666-feb5-2b70cb8613a9"
      },
      "outputs": [
        {
          "output_type": "execute_result",
          "data": {
            "text/plain": [
              "str"
            ]
          },
          "metadata": {},
          "execution_count": 52
        }
      ],
      "source": [
        "type(lista_str)"
      ]
    },
    {
      "cell_type": "markdown",
      "metadata": {
        "id": "cYPl0qylifJj"
      },
      "source": [
        "#### Métodos de *strings*\n",
        "\n",
        "[Documentação](https://docs.python.org/3.6/library/stdtypes.html#string-methods)"
      ]
    },
    {
      "cell_type": "code",
      "execution_count": null,
      "metadata": {
        "id": "IYEo2u_bifJl"
      },
      "outputs": [],
      "source": [
        "#1° passo eliminar os '[', 2° passo depois replace as aspas por nada e 3° passo retirar as virgulas adicionando cada utem a uma lista \n",
        "lista = lista_str[1:-1].replace(\"'\",\"\").split(\", \")"
      ]
    },
    {
      "cell_type": "code",
      "execution_count": null,
      "metadata": {
        "id": "QEy7_TWJevgZ"
      },
      "outputs": [],
      "source": []
    },
    {
      "cell_type": "code",
      "execution_count": null,
      "metadata": {
        "id": "lFO8yF2QifJt"
      },
      "outputs": [],
      "source": []
    },
    {
      "cell_type": "code",
      "execution_count": null,
      "metadata": {
        "id": "-b5SugvuifJv"
      },
      "outputs": [],
      "source": []
    },
    {
      "cell_type": "code",
      "execution_count": null,
      "metadata": {
        "id": "OagOgk64ifJx"
      },
      "outputs": [],
      "source": []
    },
    {
      "cell_type": "code",
      "execution_count": null,
      "metadata": {
        "id": "Ek6sMqhsifJz"
      },
      "outputs": [],
      "source": []
    },
    {
      "cell_type": "code",
      "execution_count": null,
      "metadata": {
        "id": "oRWEteJKifJ1"
      },
      "outputs": [],
      "source": []
    },
    {
      "cell_type": "markdown",
      "metadata": {
        "id": "8Ak250BYevga"
      },
      "source": [
        "#### `str`\n",
        "\n",
        "[Documentação](https://pandas.pydata.org/pandas-docs/stable/reference/api/pandas.Series.str.html)"
      ]
    },
    {
      "cell_type": "code",
      "execution_count": null,
      "metadata": {
        "id": "6vv8s40ievga"
      },
      "outputs": [],
      "source": []
    },
    {
      "cell_type": "code",
      "execution_count": null,
      "metadata": {
        "id": "GKIZLU9_ifJ3"
      },
      "outputs": [],
      "source": []
    },
    {
      "cell_type": "code",
      "execution_count": null,
      "metadata": {
        "id": "j5ZntTzAifJ5"
      },
      "outputs": [],
      "source": []
    },
    {
      "cell_type": "code",
      "execution_count": null,
      "metadata": {
        "id": "TJpsQdSPifJ9"
      },
      "outputs": [],
      "source": []
    },
    {
      "cell_type": "code",
      "execution_count": null,
      "metadata": {
        "id": "-diMtJl7ifKA"
      },
      "outputs": [],
      "source": []
    },
    {
      "cell_type": "code",
      "execution_count": null,
      "metadata": {
        "id": "yM8GML9yifKC"
      },
      "outputs": [],
      "source": []
    },
    {
      "cell_type": "code",
      "execution_count": null,
      "metadata": {
        "id": "-yHC8F6fifKF"
      },
      "outputs": [],
      "source": []
    },
    {
      "cell_type": "code",
      "execution_count": null,
      "metadata": {
        "id": "TOZJO0GRifKG"
      },
      "outputs": [],
      "source": []
    },
    {
      "cell_type": "markdown",
      "metadata": {
        "id": "udrVGc3_evgb"
      },
      "source": [
        "#### `filter`\n",
        "\n",
        "[Documentação](https://pandas.pydata.org/pandas-docs/stable/reference/api/pandas.DataFrame.filter.html)"
      ]
    },
    {
      "cell_type": "code",
      "execution_count": null,
      "metadata": {
        "id": "7uNZ9jOCevgc"
      },
      "outputs": [],
      "source": []
    },
    {
      "cell_type": "code",
      "execution_count": null,
      "metadata": {
        "id": "S1vRA6-pifKN",
        "scrolled": true
      },
      "outputs": [],
      "source": []
    },
    {
      "cell_type": "markdown",
      "metadata": {
        "id": "1NRyywesevgc"
      },
      "source": [
        "# COMBINANDO CONJUNTOS DE DADOS\n",
        "---"
      ]
    },
    {
      "cell_type": "code",
      "execution_count": null,
      "metadata": {
        "id": "fVukYp7wevgc"
      },
      "outputs": [],
      "source": []
    },
    {
      "cell_type": "code",
      "execution_count": null,
      "metadata": {
        "id": "ssxgfqonevgc"
      },
      "outputs": [],
      "source": []
    },
    {
      "cell_type": "markdown",
      "metadata": {
        "id": "rZgiUKLdevgc"
      },
      "source": [
        "## Empilhando *DataFrames*"
      ]
    },
    {
      "cell_type": "markdown",
      "metadata": {
        "id": "-h32tlhVevgd"
      },
      "source": [
        "### `append`\n",
        "\n",
        "[Documentação](https://pandas.pydata.org/pandas-docs/stable/reference/api/pandas.DataFrame.append.html)"
      ]
    },
    {
      "cell_type": "code",
      "execution_count": null,
      "metadata": {
        "id": "LHCKRDJ_evgd",
        "scrolled": true
      },
      "outputs": [],
      "source": []
    },
    {
      "cell_type": "code",
      "execution_count": null,
      "metadata": {
        "id": "tF1g0sR2evgd",
        "scrolled": true
      },
      "outputs": [],
      "source": []
    },
    {
      "cell_type": "code",
      "execution_count": null,
      "metadata": {
        "id": "bbBmb6dRevgd"
      },
      "outputs": [],
      "source": []
    },
    {
      "cell_type": "code",
      "execution_count": null,
      "metadata": {
        "id": "i9p8pJONevgd",
        "scrolled": true
      },
      "outputs": [],
      "source": []
    },
    {
      "cell_type": "markdown",
      "metadata": {
        "id": "r2--u5uMevgd"
      },
      "source": [
        "### `concat`\n",
        "\n",
        "[Documentação](https://pandas.pydata.org/pandas-docs/stable/reference/api/pandas.concat.html)"
      ]
    },
    {
      "cell_type": "code",
      "execution_count": null,
      "metadata": {
        "id": "Slce5RQdevge"
      },
      "outputs": [],
      "source": []
    },
    {
      "cell_type": "code",
      "execution_count": null,
      "metadata": {
        "id": "44uiNz8Oevge"
      },
      "outputs": [],
      "source": []
    },
    {
      "cell_type": "markdown",
      "metadata": {
        "id": "GJbtme1Gevge"
      },
      "source": [
        "## Combinando *DataFrames* a partir de uma chave de ligação"
      ]
    },
    {
      "cell_type": "code",
      "execution_count": null,
      "metadata": {
        "id": "-wKGhtQ0evge"
      },
      "outputs": [],
      "source": []
    },
    {
      "cell_type": "code",
      "execution_count": null,
      "metadata": {
        "id": "JphM_Y6Vevge"
      },
      "outputs": [],
      "source": []
    },
    {
      "cell_type": "markdown",
      "metadata": {
        "id": "iWSZcYnuevgf"
      },
      "source": [
        "### Tratando a variável de ligação"
      ]
    },
    {
      "cell_type": "markdown",
      "metadata": {
        "id": "EnAauv0Qevgf"
      },
      "source": [
        "#### Selecionando a variável de ligação nos dois *DataFrames*"
      ]
    },
    {
      "cell_type": "code",
      "execution_count": null,
      "metadata": {
        "id": "9ZROypsOevgf"
      },
      "outputs": [],
      "source": []
    },
    {
      "cell_type": "markdown",
      "metadata": {
        "id": "l38MglWkevgf"
      },
      "source": [
        "[Documentação: `get_level_values`](https://pandas.pydata.org/pandas-docs/stable/reference/api/pandas.MultiIndex.get_level_values.html)"
      ]
    },
    {
      "cell_type": "code",
      "execution_count": null,
      "metadata": {
        "id": "PqOX0cVRevgf"
      },
      "outputs": [],
      "source": []
    },
    {
      "cell_type": "markdown",
      "metadata": {
        "id": "mQQGRwbVevgg"
      },
      "source": [
        "#### Identificando e eliminando valores duplicados - `nunique` e `unique`\n",
        "\n",
        "[Documentação: `nunique`](https://pandas.pydata.org/pandas-docs/stable/reference/api/pandas.Series.nunique.html)\n",
        "\n",
        "[Documentação: `unique`](https://pandas.pydata.org/pandas-docs/stable/reference/api/pandas.Series.unique.html)"
      ]
    },
    {
      "cell_type": "code",
      "execution_count": null,
      "metadata": {
        "id": "oQ7JrM4oevgg"
      },
      "outputs": [],
      "source": []
    },
    {
      "cell_type": "code",
      "execution_count": null,
      "metadata": {
        "id": "3EseTUMGevgg"
      },
      "outputs": [],
      "source": []
    },
    {
      "cell_type": "code",
      "execution_count": null,
      "metadata": {
        "id": "wTzTjSG4evgg"
      },
      "outputs": [],
      "source": []
    },
    {
      "cell_type": "code",
      "execution_count": null,
      "metadata": {
        "id": "phexF7SWevgg"
      },
      "outputs": [],
      "source": []
    },
    {
      "cell_type": "code",
      "execution_count": null,
      "metadata": {
        "id": "P8IO0v72evgh",
        "scrolled": true
      },
      "outputs": [],
      "source": []
    },
    {
      "cell_type": "markdown",
      "metadata": {
        "id": "SzEMZcrBevgh"
      },
      "source": [
        "---"
      ]
    },
    {
      "cell_type": "code",
      "execution_count": null,
      "metadata": {
        "id": "QDoTILAcevgh"
      },
      "outputs": [],
      "source": []
    },
    {
      "cell_type": "code",
      "execution_count": null,
      "metadata": {
        "id": "P8VPy0fmevgh"
      },
      "outputs": [],
      "source": []
    },
    {
      "cell_type": "code",
      "execution_count": null,
      "metadata": {
        "id": "d2r54C34evgi",
        "scrolled": true
      },
      "outputs": [],
      "source": []
    },
    {
      "cell_type": "markdown",
      "metadata": {
        "id": "ivrVtUQlevgi"
      },
      "source": [
        "#### Verificando se existe correspondência entre as variáveis de ligação\n",
        "\n",
        "[Documentação](https://pandas.pydata.org/pandas-docs/stable/reference/api/pandas.Series.isin.html)"
      ]
    },
    {
      "cell_type": "code",
      "execution_count": null,
      "metadata": {
        "id": "RCPjMO2levgi",
        "scrolled": false
      },
      "outputs": [],
      "source": []
    },
    {
      "cell_type": "code",
      "execution_count": null,
      "metadata": {
        "id": "IFWWnS4Kevgi",
        "scrolled": true
      },
      "outputs": [],
      "source": []
    },
    {
      "cell_type": "code",
      "execution_count": null,
      "metadata": {
        "id": "uiacZ9lnevgi"
      },
      "outputs": [],
      "source": []
    },
    {
      "cell_type": "code",
      "execution_count": null,
      "metadata": {
        "id": "HSpGW6vdevgj"
      },
      "outputs": [],
      "source": []
    },
    {
      "cell_type": "markdown",
      "metadata": {
        "id": "poxpGTtuevgj"
      },
      "source": [
        "#### Ajustando os valores\n",
        "\n",
        "[Documentação](https://pandas.pydata.org/pandas-docs/stable/reference/api/pandas.Series.replace.html)"
      ]
    },
    {
      "cell_type": "code",
      "execution_count": null,
      "metadata": {
        "id": "XTDo7AvYevgk"
      },
      "outputs": [],
      "source": []
    },
    {
      "cell_type": "code",
      "execution_count": null,
      "metadata": {
        "id": "NAqMX05Yevgk",
        "scrolled": true
      },
      "outputs": [],
      "source": []
    },
    {
      "cell_type": "code",
      "execution_count": null,
      "metadata": {
        "id": "iGudgRQ6evgk",
        "scrolled": false
      },
      "outputs": [],
      "source": []
    },
    {
      "cell_type": "markdown",
      "metadata": {
        "id": "3btbFOGeevgl"
      },
      "source": [
        "### Combinando os *DataFrames*"
      ]
    },
    {
      "cell_type": "markdown",
      "metadata": {
        "id": "CBTdNyc1evgl"
      },
      "source": [
        "#### `merge`\n",
        "\n",
        "[Documentação](https://pandas.pydata.org/pandas-docs/stable/reference/api/pandas.merge.html)\n",
        "\n",
        "```\n",
        "pandas.merge(left, right, how='inner', on=None, left_on=None, right_on=None, left_index=False, right_index=False, sort=False, suffixes='_x', '_y', copy=True, indicator=False, validate=None)\n",
        "```\n",
        "\n",
        "**Parameters**\n",
        "\n",
        "- **left**: DataFrame\n",
        "\n",
        "\n",
        "- **right**: DataFrame\n",
        "    \n",
        "\n",
        "- **how**: {‘left’, ‘right’, ‘outer’, ‘inner’}, *default* ‘inner’\n",
        "\n",
        "        Tipo de junção que será realizada.\n",
        "\n",
        "        - left: usa apenas as chaves do DataFrame especificado no parâmetro left.\n",
        "\n",
        "        - right: usa apenas as chaves do DataFrame especificado no parâmetro right.\n",
        "\n",
        "        - outer: considera todos os registros dos DataFrames especificados nos parâmetros left e right, isto é, faz a união das chaves.\n",
        "\n",
        "        - inner: considera apenas a interseção das chaves dos DataFrames especificados nos parâmetros left e right.\n",
        "    \n",
        "\n",
        "- **on**: label ou list\n",
        "\n",
        "        Nomes das colunas ou dos índices que serão utilizados na junção. Estes devem ser encontrados em ambos os DataFrames.\n",
        "        \n",
        "\n",
        "- **left_on**: label ou list, or array-like\n",
        "\n",
        "        Nomes das colunas ou dos índices do DataFrame especificado em left que serão utilizados na junção.\n",
        "        \n",
        "\n",
        "- **right_on**: label or list, or array-like\n",
        "\n",
        "        Nomes das colunas ou dos índices do DataFrame especificado em right que serão utilizados na junção.\n",
        "    \n",
        "\n",
        "- **left_index**: bool, *default False*\n",
        "\n",
        "        Indica se o índice do DataFrame especificado no parâmetro left deve ser utilizado como chave de junção.\n",
        "        \n",
        "\n",
        "- **right_index**: bool, *default False*\n",
        "\n",
        "        Indica se o índice do DataFrame especificado no parâmetro right deve ser utilizado como chave de junção."
      ]
    },
    {
      "cell_type": "code",
      "execution_count": null,
      "metadata": {
        "id": "wo8ttXKcevgn",
        "scrolled": true
      },
      "outputs": [],
      "source": []
    },
    {
      "cell_type": "markdown",
      "metadata": {
        "id": "ymrhrLaYevgn"
      },
      "source": [
        "# ADICIONANDO INFORMAÇÕES\n",
        "---"
      ]
    },
    {
      "cell_type": "markdown",
      "metadata": {
        "id": "4aqxo4l-evgn"
      },
      "source": [
        "## Criando as colunas `quartos`, `suites` e `banheiros`"
      ]
    },
    {
      "cell_type": "code",
      "execution_count": null,
      "metadata": {
        "id": "giBGU4gOevgs"
      },
      "outputs": [],
      "source": []
    },
    {
      "cell_type": "markdown",
      "metadata": {
        "id": "nya9Yy7Kevgs"
      },
      "source": [
        "### `str.extractall`\n",
        "\n",
        "[Documentação](https://pandas.pydata.org/pandas-docs/stable/reference/api/pandas.Series.str.extractall.html)"
      ]
    },
    {
      "cell_type": "code",
      "execution_count": null,
      "metadata": {
        "id": "Toi4yfM-evgs",
        "scrolled": true
      },
      "outputs": [],
      "source": []
    },
    {
      "cell_type": "markdown",
      "metadata": {
        "id": "p2bibVe9evgs"
      },
      "source": [
        "### `unstack`\n",
        "\n",
        "[Documentação](https://pandas.pydata.org/pandas-docs/stable/reference/api/pandas.DataFrame.unstack.html)"
      ]
    },
    {
      "cell_type": "code",
      "execution_count": null,
      "metadata": {
        "id": "QXWYy2h8evgt"
      },
      "outputs": [],
      "source": []
    },
    {
      "cell_type": "code",
      "execution_count": null,
      "metadata": {
        "id": "FktwCtLTevgt"
      },
      "outputs": [],
      "source": []
    },
    {
      "cell_type": "markdown",
      "metadata": {
        "id": "-jVhoVI-evgt"
      },
      "source": [
        "### `droplevel`\n",
        "\n",
        "[Documentação](https://pandas.pydata.org/pandas-docs/stable/reference/api/pandas.DataFrame.droplevel.html)"
      ]
    },
    {
      "cell_type": "code",
      "execution_count": null,
      "metadata": {
        "id": "TSojRmn9evgt"
      },
      "outputs": [],
      "source": []
    },
    {
      "cell_type": "code",
      "execution_count": null,
      "metadata": {
        "id": "ac4wLkEGevgt",
        "scrolled": true
      },
      "outputs": [],
      "source": []
    },
    {
      "cell_type": "markdown",
      "metadata": {
        "id": "m2CS8xkuevgu"
      },
      "source": [
        "## Criando novas classificações"
      ]
    },
    {
      "cell_type": "markdown",
      "metadata": {
        "id": "bJqulTItevgu"
      },
      "source": [
        "### Com dados categóricos - `map`\n",
        "\n",
        "[Documentação](https://pandas.pydata.org/pandas-docs/stable/reference/api/pandas.Series.map.html)"
      ]
    },
    {
      "cell_type": "code",
      "execution_count": null,
      "metadata": {
        "id": "_l0qDgFzevgu"
      },
      "outputs": [],
      "source": [
        "tipo_uso = {\n",
        "    'Apartamento': 'Residencial',\n",
        "    'Casa': 'Residencial',\n",
        "    'Cobertura': 'Residencial',\n",
        "    'Consultório': 'Comercial',\n",
        "    'Imóvel Comercial': 'Comercial',\n",
        "    'Loja': 'Comercial',\n",
        "    'Sala Comercial': 'Comercial'\n",
        "}"
      ]
    },
    {
      "cell_type": "code",
      "execution_count": null,
      "metadata": {
        "id": "DwyFjomsevgu",
        "scrolled": true
      },
      "outputs": [],
      "source": []
    },
    {
      "cell_type": "code",
      "execution_count": null,
      "metadata": {
        "id": "X3B_8DLvevgv"
      },
      "outputs": [],
      "source": []
    },
    {
      "cell_type": "markdown",
      "metadata": {
        "id": "995hOzHhevgv"
      },
      "source": [
        "#### `insert`\n",
        "\n",
        "[Documentação](https://pandas.pydata.org/pandas-docs/stable/reference/api/pandas.DataFrame.insert.html)"
      ]
    },
    {
      "cell_type": "code",
      "execution_count": null,
      "metadata": {
        "id": "tuPwv1JTevgv"
      },
      "outputs": [],
      "source": []
    },
    {
      "cell_type": "code",
      "execution_count": null,
      "metadata": {
        "id": "IMSZeeIhevgw",
        "scrolled": true
      },
      "outputs": [],
      "source": []
    },
    {
      "cell_type": "markdown",
      "metadata": {
        "id": "1CRwFHsfevgw"
      },
      "source": [
        "### Com dados numéricos - `cut`\n",
        "\n",
        "[Documentação](https://pandas.pydata.org/pandas-docs/stable/reference/api/pandas.cut.html)"
      ]
    },
    {
      "cell_type": "markdown",
      "metadata": {
        "id": "2g4jSmX1evgw"
      },
      "source": [
        "#### Utilizando classes fixas"
      ]
    },
    {
      "cell_type": "code",
      "execution_count": null,
      "metadata": {
        "id": "0KTpjlnhevgx"
      },
      "outputs": [],
      "source": []
    },
    {
      "cell_type": "code",
      "execution_count": null,
      "metadata": {
        "id": "zapsO_NJAoj7"
      },
      "outputs": [],
      "source": []
    },
    {
      "cell_type": "code",
      "execution_count": null,
      "metadata": {
        "id": "ztdhjZ2mevgx"
      },
      "outputs": [],
      "source": []
    },
    {
      "cell_type": "code",
      "execution_count": null,
      "metadata": {
        "id": "je6VWPuYevgx",
        "scrolled": true
      },
      "outputs": [],
      "source": []
    },
    {
      "cell_type": "code",
      "execution_count": null,
      "metadata": {
        "id": "vY7d-5z5ceWO",
        "scrolled": true
      },
      "outputs": [],
      "source": []
    },
    {
      "cell_type": "code",
      "execution_count": null,
      "metadata": {
        "id": "q1ENkBM0evgy"
      },
      "outputs": [],
      "source": []
    },
    {
      "cell_type": "markdown",
      "metadata": {
        "id": "hGo5UyTsevgy"
      },
      "source": [
        "#### Utilizando classes personalizadas"
      ]
    },
    {
      "cell_type": "code",
      "execution_count": null,
      "metadata": {
        "id": "XzoW4Hasb8q7"
      },
      "outputs": [],
      "source": []
    },
    {
      "cell_type": "code",
      "execution_count": null,
      "metadata": {
        "id": "I65cC8pkevgz",
        "scrolled": true
      },
      "outputs": [],
      "source": []
    },
    {
      "cell_type": "code",
      "execution_count": null,
      "metadata": {
        "id": "mfZ0S5b0evgz",
        "scrolled": true
      },
      "outputs": [],
      "source": []
    },
    {
      "cell_type": "code",
      "execution_count": null,
      "metadata": {
        "id": "iHDPvSAPevgz"
      },
      "outputs": [],
      "source": []
    },
    {
      "cell_type": "markdown",
      "metadata": {
        "id": "zWGPxzcuevg0"
      },
      "source": [
        "## Novas colunas derivadas das informações existentes"
      ]
    },
    {
      "cell_type": "markdown",
      "metadata": {
        "id": "LLxPnrTHevg0"
      },
      "source": [
        "### Valor por m²"
      ]
    },
    {
      "cell_type": "code",
      "execution_count": null,
      "metadata": {
        "id": "ucf8dkBzevg0",
        "scrolled": true
      },
      "outputs": [],
      "source": []
    },
    {
      "cell_type": "code",
      "execution_count": null,
      "metadata": {
        "id": "RAPOfBHgevg0"
      },
      "outputs": [],
      "source": []
    },
    {
      "cell_type": "markdown",
      "metadata": {
        "id": "JxaCGr1Devg1"
      },
      "source": [
        "#### `apply`\n",
        "\n",
        "[Documentação](https://pandas.pydata.org/pandas-docs/stable/reference/api/pandas.DataFrame.apply.html)"
      ]
    },
    {
      "cell_type": "code",
      "execution_count": null,
      "metadata": {
        "id": "yNmvRWLievg1"
      },
      "outputs": [],
      "source": []
    },
    {
      "cell_type": "code",
      "execution_count": null,
      "metadata": {
        "id": "Xeqd609_evg1"
      },
      "outputs": [],
      "source": []
    },
    {
      "cell_type": "code",
      "execution_count": null,
      "metadata": {
        "id": "ZEvfUpFoevg2"
      },
      "outputs": [],
      "source": []
    },
    {
      "cell_type": "markdown",
      "metadata": {
        "id": "1Pcx255bevg2"
      },
      "source": [
        "### Piscina?"
      ]
    },
    {
      "cell_type": "code",
      "execution_count": null,
      "metadata": {
        "id": "U6z63nqXevg2"
      },
      "outputs": [],
      "source": []
    },
    {
      "cell_type": "markdown",
      "metadata": {
        "id": "KNSWnriMevg2"
      },
      "source": [
        "# TABULAÇÕES E SUMARIZAÇÕES\n",
        "---"
      ]
    },
    {
      "cell_type": "markdown",
      "metadata": {
        "id": "eiFZz3Gcevg2"
      },
      "source": [
        "## Agrupamentos"
      ]
    },
    {
      "cell_type": "code",
      "execution_count": null,
      "metadata": {
        "id": "GepN60rgevg2"
      },
      "outputs": [],
      "source": []
    },
    {
      "cell_type": "markdown",
      "metadata": {
        "id": "4VGAbY3Sevg3"
      },
      "source": [
        "### `aggregate`\n",
        "\n",
        "[Documentação](https://pandas.pydata.org/pandas-docs/stable/reference/api/pandas.DataFrame.aggregate.html)"
      ]
    },
    {
      "cell_type": "code",
      "execution_count": null,
      "metadata": {
        "id": "CJopCPinevg3"
      },
      "outputs": [],
      "source": []
    },
    {
      "cell_type": "code",
      "execution_count": null,
      "metadata": {
        "id": "fiQc4618evg3"
      },
      "outputs": [],
      "source": []
    },
    {
      "cell_type": "markdown",
      "metadata": {
        "id": "Y_T5j1Dkevg3"
      },
      "source": [
        "### `groupby`\n",
        "\n",
        "[Documentação](https://pandas.pydata.org/pandas-docs/stable/reference/api/pandas.DataFrame.groupby.html)"
      ]
    },
    {
      "cell_type": "code",
      "execution_count": null,
      "metadata": {
        "id": "Zu9QU8XYevg3"
      },
      "outputs": [],
      "source": []
    },
    {
      "cell_type": "code",
      "execution_count": null,
      "metadata": {
        "id": "UVdqyITfevg4"
      },
      "outputs": [],
      "source": []
    },
    {
      "cell_type": "code",
      "execution_count": null,
      "metadata": {
        "id": "QNe-9qufevg4"
      },
      "outputs": [],
      "source": []
    },
    {
      "cell_type": "code",
      "execution_count": null,
      "metadata": {
        "id": "2mF_L8cAevg4"
      },
      "outputs": [],
      "source": []
    },
    {
      "cell_type": "code",
      "execution_count": null,
      "metadata": {
        "id": "cafTo2wUevg4"
      },
      "outputs": [],
      "source": []
    },
    {
      "cell_type": "code",
      "execution_count": null,
      "metadata": {
        "id": "zVu7oxvYevg5"
      },
      "outputs": [],
      "source": []
    },
    {
      "cell_type": "markdown",
      "metadata": {
        "id": "AUBj_APUevg5"
      },
      "source": [
        "### `value_counts`\n",
        "\n",
        "[Documentação](https://pandas.pydata.org/pandas-docs/stable/reference/api/pandas.DataFrame.value_counts.html)"
      ]
    },
    {
      "cell_type": "code",
      "execution_count": null,
      "metadata": {
        "id": "EF2L8WmHevg5"
      },
      "outputs": [],
      "source": []
    },
    {
      "cell_type": "code",
      "execution_count": null,
      "metadata": {
        "id": "IOZ1Fb0Tevg5"
      },
      "outputs": [],
      "source": []
    },
    {
      "cell_type": "code",
      "execution_count": null,
      "metadata": {
        "id": "irStjJUvevg5"
      },
      "outputs": [],
      "source": []
    },
    {
      "cell_type": "markdown",
      "metadata": {
        "id": "KJtrt3l5evg6"
      },
      "source": [
        "#### `to_frame`\n",
        "\n",
        "[Documentação](https://pandas.pydata.org/pandas-docs/stable/reference/api/pandas.Series.to_frame.html)"
      ]
    },
    {
      "cell_type": "code",
      "execution_count": null,
      "metadata": {
        "id": "86UZBXs9evg6"
      },
      "outputs": [],
      "source": []
    },
    {
      "cell_type": "markdown",
      "metadata": {
        "id": "zfIcPdHpevg6"
      },
      "source": [
        "## Mudando o formato de um *DataFrame*"
      ]
    },
    {
      "cell_type": "markdown",
      "metadata": {
        "id": "FMI3APPqevg6"
      },
      "source": [
        "### `unstack`\n",
        "\n",
        "Faz a rotação ou o pivoteamento das linhas para as colunas.\n",
        "\n",
        "[Documentação](https://pandas.pydata.org/pandas-docs/stable/reference/api/pandas.DataFrame.unstack.html)"
      ]
    },
    {
      "cell_type": "code",
      "execution_count": null,
      "metadata": {
        "id": "ihUiFlUoevg6"
      },
      "outputs": [],
      "source": []
    },
    {
      "cell_type": "code",
      "execution_count": null,
      "metadata": {
        "id": "QJ4pCdlnevg6"
      },
      "outputs": [],
      "source": []
    },
    {
      "cell_type": "code",
      "execution_count": null,
      "metadata": {
        "id": "v_n21a8cevg7"
      },
      "outputs": [],
      "source": []
    },
    {
      "cell_type": "markdown",
      "metadata": {
        "id": "se1knkwkevg7"
      },
      "source": [
        "### `stack`\n",
        "\n",
        "Faz a rotação ou o pivoteamento das colunas de um *DataFrame* para as linhas.\n",
        "\n",
        "[Documentação](https://pandas.pydata.org/pandas-docs/stable/reference/api/pandas.DataFrame.stack.html)"
      ]
    },
    {
      "cell_type": "code",
      "execution_count": null,
      "metadata": {
        "id": "xJRpaXH_evg7"
      },
      "outputs": [],
      "source": []
    },
    {
      "cell_type": "code",
      "execution_count": null,
      "metadata": {
        "id": "QkWRUW1Hevg7"
      },
      "outputs": [],
      "source": []
    },
    {
      "cell_type": "code",
      "execution_count": null,
      "metadata": {
        "id": "dGE9_h4Eevg7",
        "scrolled": true
      },
      "outputs": [],
      "source": []
    },
    {
      "cell_type": "code",
      "execution_count": null,
      "metadata": {
        "id": "SYBirwOQevg7",
        "scrolled": true
      },
      "outputs": [],
      "source": []
    },
    {
      "cell_type": "markdown",
      "metadata": {
        "id": "721L30DGevg8"
      },
      "source": [
        "## Criando tabelas dinâmicas"
      ]
    },
    {
      "cell_type": "markdown",
      "metadata": {
        "id": "MT9R7ULTevg8"
      },
      "source": [
        "### `pivot`\n",
        "\n",
        "[Documentação](https://pandas.pydata.org/pandas-docs/stable/reference/api/pandas.DataFrame.pivot.html)"
      ]
    },
    {
      "cell_type": "code",
      "execution_count": null,
      "metadata": {
        "id": "TxCjxASHevg8"
      },
      "outputs": [],
      "source": []
    },
    {
      "cell_type": "markdown",
      "metadata": {
        "id": "KK2lRVTZevg8"
      },
      "source": [
        "#### `droplevel`\n",
        "\n",
        "[Documentação](https://pandas.pydata.org/pandas-docs/stable/reference/api/pandas.DataFrame.droplevel.html)"
      ]
    },
    {
      "cell_type": "code",
      "execution_count": null,
      "metadata": {
        "id": "WM8eGmWyevg9"
      },
      "outputs": [],
      "source": []
    },
    {
      "cell_type": "markdown",
      "metadata": {
        "id": "JV0cPfjjevg9"
      },
      "source": [
        "#### `reset_index`\n",
        "\n",
        "[Documentação](https://pandas.pydata.org/pandas-docs/stable/reference/api/pandas.DataFrame.reset_index.html)"
      ]
    },
    {
      "cell_type": "code",
      "execution_count": null,
      "metadata": {
        "id": "_2zbYlDUevg9",
        "scrolled": true
      },
      "outputs": [],
      "source": []
    },
    {
      "cell_type": "code",
      "execution_count": null,
      "metadata": {
        "id": "Tr3lQ7_Pevg9"
      },
      "outputs": [],
      "source": []
    },
    {
      "cell_type": "markdown",
      "metadata": {
        "id": "si3S5yVIevg9"
      },
      "source": [
        "### `pivot_table`\n",
        "\n",
        "[Documentação](https://pandas.pydata.org/pandas-docs/stable/reference/api/pandas.DataFrame.pivot_table.html)"
      ]
    },
    {
      "cell_type": "code",
      "execution_count": null,
      "metadata": {
        "id": "Cc8GufF3evg-"
      },
      "outputs": [],
      "source": []
    },
    {
      "cell_type": "code",
      "execution_count": null,
      "metadata": {
        "id": "VxFFo13gevg-"
      },
      "outputs": [],
      "source": []
    },
    {
      "cell_type": "code",
      "execution_count": null,
      "metadata": {
        "id": "5AzhTNwaevg-"
      },
      "outputs": [],
      "source": []
    },
    {
      "cell_type": "markdown",
      "metadata": {
        "id": "z3WPXV_1evg-"
      },
      "source": [
        "# TABULAÇÕES E ESTILIZAÇÃO\n",
        "---"
      ]
    },
    {
      "cell_type": "markdown",
      "metadata": {
        "id": "hEMpF1yYevg-"
      },
      "source": [
        "## Tabulações a partir de informações no formato de listas"
      ]
    },
    {
      "cell_type": "markdown",
      "metadata": {
        "id": "ZFqI6k6_evg-"
      },
      "source": [
        "### `explode`\n",
        "\n",
        "[Documentação](https://pandas.pydata.org/pandas-docs/stable/reference/api/pandas.DataFrame.explode.html)"
      ]
    },
    {
      "cell_type": "code",
      "execution_count": null,
      "metadata": {
        "id": "JFZCZ7Yuevg_",
        "scrolled": true
      },
      "outputs": [],
      "source": []
    },
    {
      "cell_type": "code",
      "execution_count": null,
      "metadata": {
        "id": "VhIcLAXzevg_"
      },
      "outputs": [],
      "source": []
    },
    {
      "cell_type": "code",
      "execution_count": null,
      "metadata": {
        "id": "q8dhRb3sevg_",
        "scrolled": false
      },
      "outputs": [],
      "source": []
    },
    {
      "cell_type": "markdown",
      "metadata": {
        "id": "f8aTRZ-Mevg_"
      },
      "source": [
        "#### `where`\n",
        "\n",
        "[Documentação](https://pandas.pydata.org/pandas-docs/stable/reference/api/pandas.Series.where.html)"
      ]
    },
    {
      "cell_type": "code",
      "execution_count": null,
      "metadata": {
        "id": "eVqYjcWievg_"
      },
      "outputs": [],
      "source": []
    },
    {
      "cell_type": "code",
      "execution_count": null,
      "metadata": {
        "id": "IRMPSZhvevhA"
      },
      "outputs": [],
      "source": []
    },
    {
      "cell_type": "markdown",
      "metadata": {
        "id": "Hqsk2TCqevhA"
      },
      "source": [
        "## Estilizando um DataFrame"
      ]
    },
    {
      "cell_type": "markdown",
      "metadata": {
        "id": "D9fI8e5TevhA"
      },
      "source": [
        "### `style`\n",
        "\n",
        "[Documentação](https://pandas.pydata.org/pandas-docs/stable/reference/api/pandas.DataFrame.style.html)"
      ]
    },
    {
      "cell_type": "code",
      "execution_count": null,
      "metadata": {
        "id": "6RSwWnIhevhA"
      },
      "outputs": [],
      "source": []
    },
    {
      "cell_type": "code",
      "execution_count": null,
      "metadata": {
        "id": "0m_-TJTuevhA"
      },
      "outputs": [],
      "source": []
    },
    {
      "cell_type": "code",
      "execution_count": null,
      "metadata": {
        "id": "1KnL7z-CevhA"
      },
      "outputs": [],
      "source": []
    },
    {
      "cell_type": "markdown",
      "metadata": {
        "id": "yvFSL0PAevhB"
      },
      "source": [
        "#### `format`\n",
        "\n",
        "[Documentação](https://pandas.pydata.org/pandas-docs/stable/reference/api/pandas.io.formats.style.Styler.format.html)"
      ]
    },
    {
      "cell_type": "code",
      "execution_count": null,
      "metadata": {
        "id": "r_0DbWypevhB"
      },
      "outputs": [],
      "source": []
    },
    {
      "cell_type": "markdown",
      "metadata": {
        "id": "ncaZ5etWevhB"
      },
      "source": [
        "#### `bar`\n",
        "\n",
        "[Documentação](https://pandas.pydata.org/pandas-docs/stable/reference/api/pandas.io.formats.style.Styler.bar.html)"
      ]
    },
    {
      "cell_type": "code",
      "execution_count": null,
      "metadata": {
        "id": "0DYposenevhB"
      },
      "outputs": [],
      "source": []
    },
    {
      "cell_type": "markdown",
      "metadata": {
        "id": "q9EV6PsZevhB"
      },
      "source": [
        "#### `applymap`\n",
        "\n",
        "[Documentação](https://pandas.pydata.org/pandas-docs/stable/reference/api/pandas.io.formats.style.Styler.applymap.html)"
      ]
    },
    {
      "cell_type": "code",
      "execution_count": null,
      "metadata": {
        "id": "dwRK5vwXevhB"
      },
      "outputs": [],
      "source": []
    },
    {
      "cell_type": "code",
      "execution_count": null,
      "metadata": {
        "id": "qyMctQrhevhD"
      },
      "outputs": [],
      "source": []
    },
    {
      "cell_type": "markdown",
      "metadata": {
        "id": "xklcN2wjevhD"
      },
      "source": [
        "#### `highlight_max` e `highlight_min`\n",
        "\n",
        "[Documentação: `highlight_max`](https://pandas.pydata.org/pandas-docs/stable/reference/api/pandas.io.formats.style.Styler.highlight_max.html)\n",
        "\n",
        "[Documentação: `highlight_min`](https://pandas.pydata.org/pandas-docs/stable/reference/api/pandas.io.formats.style.Styler.highlight_min.html)"
      ]
    },
    {
      "cell_type": "code",
      "execution_count": null,
      "metadata": {
        "id": "bH5k6L7FevhE"
      },
      "outputs": [],
      "source": []
    },
    {
      "cell_type": "code",
      "execution_count": null,
      "metadata": {
        "id": "QfSwVQg9evhE"
      },
      "outputs": [],
      "source": []
    },
    {
      "cell_type": "code",
      "execution_count": null,
      "metadata": {
        "id": "Q2WvRk1eevhF",
        "scrolled": true
      },
      "outputs": [],
      "source": []
    },
    {
      "cell_type": "code",
      "execution_count": null,
      "metadata": {
        "id": "JHoRZr3gevhG"
      },
      "outputs": [],
      "source": []
    },
    {
      "cell_type": "code",
      "execution_count": null,
      "metadata": {
        "id": "07rpMsdIevhG"
      },
      "outputs": [],
      "source": []
    },
    {
      "cell_type": "code",
      "execution_count": null,
      "metadata": {
        "id": "OkZyFqDdevhG"
      },
      "outputs": [],
      "source": []
    },
    {
      "cell_type": "code",
      "execution_count": null,
      "metadata": {
        "id": "WX5UuzeYevhG"
      },
      "outputs": [],
      "source": []
    },
    {
      "cell_type": "markdown",
      "metadata": {
        "id": "A13lh-6WevhH"
      },
      "source": [
        "#### `background_gradient`\n",
        "\n",
        "[Documentação](https://pandas.pydata.org/pandas-docs/stable/reference/api/pandas.io.formats.style.Styler.background_gradient.html)"
      ]
    },
    {
      "cell_type": "code",
      "execution_count": null,
      "metadata": {
        "id": "DUUt_GaRevhH"
      },
      "outputs": [],
      "source": []
    },
    {
      "cell_type": "code",
      "execution_count": null,
      "metadata": {
        "id": "Cqbg9GgvevhJ"
      },
      "outputs": [],
      "source": []
    },
    {
      "cell_type": "code",
      "execution_count": null,
      "metadata": {
        "id": "1YYNpDxbevhJ"
      },
      "outputs": [],
      "source": []
    },
    {
      "cell_type": "markdown",
      "metadata": {
        "id": "IKxU1RsFevhJ"
      },
      "source": [
        "#### `to_excel`\n",
        "\n",
        "[Documentação](https://pandas.pydata.org/pandas-docs/stable/reference/api/pandas.io.formats.style.Styler.to_excel.html)"
      ]
    },
    {
      "cell_type": "code",
      "execution_count": null,
      "metadata": {
        "id": "Hqc01SzXevhK"
      },
      "outputs": [],
      "source": []
    },
    {
      "cell_type": "markdown",
      "metadata": {
        "id": "A75CwZB0evhK"
      },
      "source": [
        "# ANEXOS\n",
        "---"
      ]
    },
    {
      "cell_type": "markdown",
      "metadata": {
        "id": "TcE_9F2eevhL"
      },
      "source": [
        "### Opções para o parâmetro `cmap`\n",
        "\n",
        "[Documentação](https://matplotlib.org/3.3.2/tutorials/colors/colormaps.html)"
      ]
    },
    {
      "cell_type": "code",
      "execution_count": null,
      "metadata": {
        "id": "hpyWIdU2evhL"
      },
      "outputs": [],
      "source": [
        "import numpy as np\n",
        "import matplotlib as mpl\n",
        "import matplotlib.pyplot as plt\n",
        "from matplotlib import cm\n",
        "from collections import OrderedDict\n",
        "\n",
        "cmaps = OrderedDict()"
      ]
    },
    {
      "cell_type": "code",
      "execution_count": null,
      "metadata": {
        "id": "DbvdFKVievhM"
      },
      "outputs": [],
      "source": [
        "cmaps['Perceptually Uniform Sequential'] = [\n",
        "            'viridis', 'plasma', 'inferno', 'magma', 'cividis']\n",
        "\n",
        "cmaps['Sequential'] = [\n",
        "            'Greys', 'Purples', 'Blues', 'Greens', 'Oranges', 'Reds',\n",
        "            'YlOrBr', 'YlOrRd', 'OrRd', 'PuRd', 'RdPu', 'BuPu',\n",
        "            'GnBu', 'PuBu', 'YlGnBu', 'PuBuGn', 'BuGn', 'YlGn']\n",
        "\n",
        "cmaps['Sequential (2)'] = [\n",
        "            'binary', 'gist_yarg', 'gist_gray', 'gray', 'bone', 'pink',\n",
        "            'spring', 'summer', 'autumn', 'winter', 'cool', 'Wistia',\n",
        "            'hot', 'afmhot', 'gist_heat', 'copper']\n",
        "\n",
        "cmaps['Diverging'] = [\n",
        "            'PiYG', 'PRGn', 'BrBG', 'PuOr', 'RdGy', 'RdBu',\n",
        "            'RdYlBu', 'RdYlGn', 'Spectral', 'coolwarm', 'bwr', 'seismic']\n",
        "\n",
        "cmaps['Cyclic'] = ['twilight', 'twilight_shifted', 'hsv']\n",
        "\n",
        "cmaps['Qualitative'] = ['Pastel1', 'Pastel2', 'Paired', 'Accent',\n",
        "                        'Dark2', 'Set1', 'Set2', 'Set3',\n",
        "                        'tab10', 'tab20', 'tab20b', 'tab20c']\n",
        "\n",
        "cmaps['Miscellaneous'] = [\n",
        "            'flag', 'prism', 'ocean', 'gist_earth', 'terrain', 'gist_stern',\n",
        "            'gnuplot', 'gnuplot2', 'CMRmap', 'cubehelix', 'brg',\n",
        "            'gist_rainbow', 'rainbow', 'jet', 'nipy_spectral',\n",
        "            'gist_ncar']"
      ]
    },
    {
      "cell_type": "code",
      "execution_count": null,
      "metadata": {
        "id": "krg94xcfevhM",
        "scrolled": false
      },
      "outputs": [],
      "source": [
        "nrows = max(len(cmap_list) for cmap_category, cmap_list in cmaps.items())\n",
        "gradient = np.linspace(0, 1, 256)\n",
        "gradient = np.vstack((gradient, gradient))\n",
        "\n",
        "\n",
        "def plot_color_gradients(cmap_category, cmap_list, nrows):\n",
        "    fig, axes = plt.subplots(nrows=nrows)\n",
        "    fig.subplots_adjust(top=0.95, bottom=0.01, left=0.2, right=0.99)\n",
        "    axes[0].set_title(cmap_category + ' colormaps', fontsize=14)\n",
        "\n",
        "    for ax, name in zip(axes, cmap_list):\n",
        "        ax.imshow(gradient, aspect='auto', cmap=plt.get_cmap(name))\n",
        "        pos = list(ax.get_position().bounds)\n",
        "        x_text = pos[0] - 0.01\n",
        "        y_text = pos[1] + pos[3]/2.\n",
        "        fig.text(x_text, y_text, name, va='center', ha='right', fontsize=10)\n",
        "\n",
        "    # Turn off *all* ticks & spines, not just the ones with colormaps.\n",
        "    for ax in axes:\n",
        "        ax.set_axis_off()\n",
        "\n",
        "\n",
        "for cmap_category, cmap_list in cmaps.items():\n",
        "    plot_color_gradients(cmap_category, cmap_list, nrows)\n",
        "\n",
        "plt.show()"
      ]
    },
    {
      "cell_type": "code",
      "execution_count": null,
      "metadata": {
        "id": "vmmcXYh2evhN"
      },
      "outputs": [],
      "source": []
    }
  ],
  "metadata": {
    "colab": {
      "provenance": [],
      "collapsed_sections": [
        "VYIHv0csevgP",
        "4S6wyakFevgQ",
        "fmnuuhTMGzZ2",
        "1NRyywesevgc",
        "ymrhrLaYevgn",
        "KNSWnriMevg2",
        "z3WPXV_1evg-",
        "TcE_9F2eevhL"
      ]
    },
    "kernelspec": {
      "display_name": "Python 3",
      "language": "python",
      "name": "python3"
    },
    "language_info": {
      "codemirror_mode": {
        "name": "ipython",
        "version": 3
      },
      "file_extension": ".py",
      "mimetype": "text/x-python",
      "name": "python",
      "nbconvert_exporter": "python",
      "pygments_lexer": "ipython3",
      "version": "3.8.5"
    },
    "toc": {
      "base_numbering": 1,
      "nav_menu": {},
      "number_sections": false,
      "sideBar": true,
      "skip_h1_title": false,
      "title_cell": "Table of Contents",
      "title_sidebar": "Contents",
      "toc_cell": false,
      "toc_position": {
        "height": "calc(100% - 180px)",
        "left": "10px",
        "top": "150px",
        "width": "268.2px"
      },
      "toc_section_display": true,
      "toc_window_display": false
    },
    "varInspector": {
      "cols": {
        "lenName": 16,
        "lenType": 16,
        "lenVar": 40
      },
      "kernels_config": {
        "python": {
          "delete_cmd_postfix": "",
          "delete_cmd_prefix": "del ",
          "library": "var_list.py",
          "varRefreshCmd": "print(var_dic_list())"
        },
        "r": {
          "delete_cmd_postfix": ") ",
          "delete_cmd_prefix": "rm(",
          "library": "var_list.r",
          "varRefreshCmd": "cat(var_dic_list()) "
        }
      },
      "types_to_exclude": [
        "module",
        "function",
        "builtin_function_or_method",
        "instance",
        "_Feature"
      ],
      "window_display": false
    }
  },
  "nbformat": 4,
  "nbformat_minor": 0
}